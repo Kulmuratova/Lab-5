{
 "cells": [
  {
   "cell_type": "code",
   "execution_count": 9,
   "id": "f8b3d60f-89e4-4e31-8fda-05e32044e8f6",
   "metadata": {},
   "outputs": [
    {
     "name": "stdin",
     "output_type": "stream",
     "text": [
      " abb\n"
     ]
    },
    {
     "name": "stdout",
     "output_type": "stream",
     "text": [
      "matches\n"
     ]
    }
   ],
   "source": [
    "import re\n",
    "txt = input()\n",
    "def my_func(txt):\n",
    "    x = r\"^ab*$\"\n",
    "    if re.fullmatch(x, txt):\n",
    "        print(\"matches\")\n",
    "    else:\n",
    "        print(\"doesn't match\")\n",
    "my_func(txt)"
   ]
  },
  {
   "cell_type": "code",
   "execution_count": 14,
   "id": "e681ed98-919d-4e91-b667-9fe308da638f",
   "metadata": {},
   "outputs": [
    {
     "name": "stdin",
     "output_type": "stream",
     "text": [
      " abbb\n"
     ]
    },
    {
     "name": "stdout",
     "output_type": "stream",
     "text": [
      "doesn't match\n"
     ]
    }
   ],
   "source": [
    "import re\n",
    "txt = input()\n",
    "def my_func(txt):\n",
    "    x = r\"^ab{2, 3}$\"\n",
    "    if re.fullmatch(x, txt):\n",
    "        print(\"matches\")\n",
    "    else:\n",
    "        print(\"doesn't match\")\n",
    "my_func(txt)"
   ]
  },
  {
   "cell_type": "code",
   "execution_count": 24,
   "id": "3d05337b-9a03-433d-b65a-8210a963a9cd",
   "metadata": {},
   "outputs": [
    {
     "name": "stdin",
     "output_type": "stream",
     "text": [
      " hello_world\n"
     ]
    },
    {
     "name": "stdout",
     "output_type": "stream",
     "text": [
      "matches\n",
      "['hello_world']\n"
     ]
    }
   ],
   "source": [
    "import re\n",
    "txt = input()\n",
    "def my_func(txt):\n",
    "    x = r\"\\b[a-z]+_[a-z]+\\b\"\n",
    "    match = re.findall(x, txt)\n",
    "    if match:\n",
    "        print(\"matches\")\n",
    "    else:\n",
    "        print(\"doesn't match\")\n",
    "    print(match)\n",
    "my_func(txt)"
   ]
  },
  {
   "cell_type": "code",
   "execution_count": 30,
   "id": "f024f355-2f1c-476b-a8ec-d7c2c115f117",
   "metadata": {},
   "outputs": [
    {
     "name": "stdin",
     "output_type": "stream",
     "text": [
      " Hello World\n"
     ]
    },
    {
     "name": "stdout",
     "output_type": "stream",
     "text": [
      "matches\n",
      "['Hello', 'World']\n"
     ]
    }
   ],
   "source": [
    "import re\n",
    "txt = input()\n",
    "def my_func(txt):\n",
    "    x = r\"\\b[A-Z][a-z]+\\b\"\n",
    "    match = re.findall(x, txt)\n",
    "    if match:\n",
    "        print(\"matches\")\n",
    "    else:\n",
    "        print(\"doesn't match\")\n",
    "    print(match)\n",
    "my_func(txt)"
   ]
  },
  {
   "cell_type": "code",
   "execution_count": 36,
   "id": "f79ae537-c460-4d1d-bf6d-5fb0e571b0ad",
   "metadata": {},
   "outputs": [
    {
     "name": "stdin",
     "output_type": "stream",
     "text": [
      " agfyhb\n"
     ]
    },
    {
     "name": "stdout",
     "output_type": "stream",
     "text": [
      "matches\n"
     ]
    }
   ],
   "source": [
    "import re\n",
    "txt = input()\n",
    "def my_func(txt):\n",
    "    x = r\"^a.*b$\"\n",
    "    if re.fullmatch(x, txt):\n",
    "        print(\"matches\")\n",
    "    else:\n",
    "        print(\"doesn't match\")\n",
    "my_func(txt)"
   ]
  },
  {
   "cell_type": "code",
   "execution_count": 38,
   "id": "aae2e636-4854-4e8f-95a8-0f5b4f8c9ef3",
   "metadata": {},
   "outputs": [
    {
     "name": "stdin",
     "output_type": "stream",
     "text": [
      " Hello, world. Test\n"
     ]
    },
    {
     "name": "stdout",
     "output_type": "stream",
     "text": [
      "Hello::world::Test\n"
     ]
    }
   ],
   "source": [
    "import re\n",
    "txt = input()\n",
    "x = re.sub(r\"[ ,.]\",\":\", txt)\n",
    "print(x)"
   ]
  },
  {
   "cell_type": "code",
   "execution_count": 43,
   "id": "a3e7d242-1b41-4465-853c-ed0a5f7af71c",
   "metadata": {},
   "outputs": [
    {
     "name": "stdin",
     "output_type": "stream",
     "text": [
      " hello_world\n"
     ]
    },
    {
     "name": "stdout",
     "output_type": "stream",
     "text": [
      "helloWorld\n"
     ]
    }
   ],
   "source": [
    "import re\n",
    "txt = input()\n",
    "def converting(match):\n",
    "    return match.group(1).upper()\n",
    "def camel(txt):\n",
    "    camel_case = re.sub(r'_([a-z])', converting, txt) \n",
    "    print(camel_case)\n",
    "camel(txt)"
   ]
  },
  {
   "cell_type": "code",
   "execution_count": 60,
   "id": "79aa8cce-cdc8-486a-8e39-9d42da85e972",
   "metadata": {},
   "outputs": [
    {
     "name": "stdin",
     "output_type": "stream",
     "text": [
      " HelloWolrd\n"
     ]
    },
    {
     "name": "stdout",
     "output_type": "stream",
     "text": [
      "['Hello', 'Wolrd']\n"
     ]
    }
   ],
   "source": [
    "import re\n",
    "txt=input()\n",
    "result = re.findall(r'[a-z]+|[A-Z][a-z]*', txt)\n",
    "print(result)"
   ]
  },
  {
   "cell_type": "code",
   "execution_count": 63,
   "id": "26047136-3b7e-460d-af30-ee16e26cd34e",
   "metadata": {},
   "outputs": [
    {
     "name": "stdin",
     "output_type": "stream",
     "text": [
      " PythonIsFun\n"
     ]
    },
    {
     "name": "stdout",
     "output_type": "stream",
     "text": [
      "Python Is Fun\n"
     ]
    }
   ],
   "source": [
    "import re\n",
    "txt=input()\n",
    "result=re.sub(r'([a-z])([A-Z])', r'\\1 \\2',  txt)\n",
    "print(result)"
   ]
  },
  {
   "cell_type": "code",
   "execution_count": 75,
   "id": "ad461777-ac66-4294-b5f0-26372202e294",
   "metadata": {},
   "outputs": [
    {
     "name": "stdin",
     "output_type": "stream",
     "text": [
      " HelloWorld\n"
     ]
    },
    {
     "name": "stdout",
     "output_type": "stream",
     "text": [
      "hello_world\n"
     ]
    }
   ],
   "source": [
    "import re\n",
    "txt = input()\n",
    "def camel(txt):\n",
    "    snake_case = re.sub(r'(?<!^)([A-Z])', r'_\\1', txt).lower() \n",
    "    print(snake_case)\n",
    "camel(txt)"
   ]
  },
  {
   "cell_type": "code",
   "execution_count": null,
   "id": "d8439d54-6f61-42fc-be4f-e1c43a443114",
   "metadata": {},
   "outputs": [],
   "source": []
  }
 ],
 "metadata": {
  "kernelspec": {
   "display_name": "Python [conda env:base] *",
   "language": "python",
   "name": "conda-base-py"
  },
  "language_info": {
   "codemirror_mode": {
    "name": "ipython",
    "version": 3
   },
   "file_extension": ".py",
   "mimetype": "text/x-python",
   "name": "python",
   "nbconvert_exporter": "python",
   "pygments_lexer": "ipython3",
   "version": "3.12.7"
  }
 },
 "nbformat": 4,
 "nbformat_minor": 5
}
